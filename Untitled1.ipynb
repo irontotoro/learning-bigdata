{
 "cells": [
  {
   "cell_type": "code",
   "execution_count": 1,
   "metadata": {},
   "outputs": [
    {
     "name": "stdout",
     "output_type": "stream",
     "text": [
      "[10, 15, 12, 14]\n"
     ]
    },
    {
     "data": {
      "text/html": [
       "<div>\n",
       "<style scoped>\n",
       "    .dataframe tbody tr th:only-of-type {\n",
       "        vertical-align: middle;\n",
       "    }\n",
       "\n",
       "    .dataframe tbody tr th {\n",
       "        vertical-align: top;\n",
       "    }\n",
       "\n",
       "    .dataframe thead th {\n",
       "        text-align: right;\n",
       "    }\n",
       "</style>\n",
       "<table border=\"1\" class=\"dataframe\">\n",
       "  <thead>\n",
       "    <tr style=\"text-align: right;\">\n",
       "      <th>Beer</th>\n",
       "      <th>False</th>\n",
       "      <th>True</th>\n",
       "    </tr>\n",
       "    <tr>\n",
       "      <th>Wine</th>\n",
       "      <th></th>\n",
       "      <th></th>\n",
       "    </tr>\n",
       "  </thead>\n",
       "  <tbody>\n",
       "    <tr>\n",
       "      <th>False</th>\n",
       "      <td>14</td>\n",
       "      <td>15</td>\n",
       "    </tr>\n",
       "    <tr>\n",
       "      <th>True</th>\n",
       "      <td>12</td>\n",
       "      <td>10</td>\n",
       "    </tr>\n",
       "  </tbody>\n",
       "</table>\n",
       "</div>"
      ],
      "text/plain": [
       "Beer   False  True \n",
       "Wine               \n",
       "False     14     15\n",
       "True      12     10"
      ]
     },
     "execution_count": 1,
     "metadata": {},
     "output_type": "execute_result"
    }
   ],
   "source": [
    "import pandas as pd\n",
    "alco2009=pd.read_csv(\"./DataScience_code/예제파일/niaaa-report2009.csv\",index_col='State')\n",
    "\n",
    "cnt=[0]*4\n",
    "\n",
    "wine_state=alco2009['Wine']>alco2009['Wine'].mean()\n",
    "beer_state=alco2009['Beer']>alco2009['Beer'].mean()\n",
    "for i in range(len(wine_state)):\n",
    "    wine=wine_state.iloc[i]\n",
    "    beer=beer_state.iloc[i]\n",
    "    if wine and beer:\n",
    "        cnt[0]+=1\n",
    "    elif(not wine)and beer:\n",
    "        cnt[1]+=1\n",
    "    elif wine and (not beer):\n",
    "        cnt[2]+=1\n",
    "    elif(not wine)and (not beer):\n",
    "        cnt[3]+=1\n",
    "   \n",
    "print(cnt)    \n",
    "pd.crosstab(wine_state,beer_state)\n"
   ]
  },
  {
   "cell_type": "code",
   "execution_count": 11,
   "metadata": {},
   "outputs": [
    {
     "name": "stdout",
     "output_type": "stream",
     "text": [
      "[173.11335472 172.18388742 170.34456533 160.00834429 174.75157575\n",
      " 177.13171356 183.77249813 170.1842634  163.15614365 168.07690217]\n"
     ]
    }
   ],
   "source": [
    "import numpy as np\n",
    "mu=174\n",
    "sigma=6\n",
    "\n",
    "man_height=np.random.normal(loc=mu,scale=sigma,size=10)\n",
    "print(man_height)"
   ]
  },
  {
   "cell_type": "code",
   "execution_count": 2,
   "metadata": {},
   "outputs": [
    {
     "name": "stdout",
     "output_type": "stream",
     "text": [
      "0.3283810058631073 0.1645729129297682\n"
     ]
    },
    {
     "data": {
      "text/html": [
       "<div>\n",
       "<style scoped>\n",
       "    .dataframe tbody tr th:only-of-type {\n",
       "        vertical-align: middle;\n",
       "    }\n",
       "\n",
       "    .dataframe tbody tr th {\n",
       "        vertical-align: top;\n",
       "    }\n",
       "\n",
       "    .dataframe thead th {\n",
       "        text-align: right;\n",
       "    }\n",
       "</style>\n",
       "<table border=\"1\" class=\"dataframe\">\n",
       "  <thead>\n",
       "    <tr style=\"text-align: right;\">\n",
       "      <th></th>\n",
       "      <th>Beer</th>\n",
       "      <th>Wine</th>\n",
       "      <th>Spirits</th>\n",
       "    </tr>\n",
       "  </thead>\n",
       "  <tbody>\n",
       "    <tr>\n",
       "      <th>Beer</th>\n",
       "      <td>1.000000</td>\n",
       "      <td>0.470690</td>\n",
       "      <td>0.908969</td>\n",
       "    </tr>\n",
       "    <tr>\n",
       "      <th>Wine</th>\n",
       "      <td>0.470690</td>\n",
       "      <td>1.000000</td>\n",
       "      <td>0.611923</td>\n",
       "    </tr>\n",
       "    <tr>\n",
       "      <th>Spirits</th>\n",
       "      <td>0.908969</td>\n",
       "      <td>0.611923</td>\n",
       "      <td>1.000000</td>\n",
       "    </tr>\n",
       "  </tbody>\n",
       "</table>\n",
       "</div>"
      ],
      "text/plain": [
       "             Beer      Wine   Spirits\n",
       "Beer     1.000000  0.470690  0.908969\n",
       "Wine     0.470690  1.000000  0.611923\n",
       "Spirits  0.908969  0.611923  1.000000"
      ]
     },
     "execution_count": 2,
     "metadata": {},
     "output_type": "execute_result"
    },
    {
     "data": {
      "image/png": "[encoded data removed]",
      "text/plain": [
       "<Figure size 432x288 with 1 Axes>"
      ]
     },
     "metadata": {
      "needs_background": "light"
     },
     "output_type": "display_data"
    }
   ],
   "source": [
    "alco=pd.read_csv(\"./DataScience_code/예제파일/niaaa-report.csv\",index_col=[\"State\",\"Year\"])\n",
    "beer_CA=alco.loc['California']['Beer']\n",
    "beer_NY=alco.loc['New York']['Beer']\n",
    "beer_NY.corr(beer_CA)\n",
    "beer_NY\n",
    "import matplotlib.pyplot as plt\n",
    "print(beer_NY.skew(),beer_CA.skew())\n",
    "plt.hist(beer_NY)\n",
    "frame_NY=alco.loc['New York']\n",
    "frame_NY.corr()"
   ]
  },
  {
   "cell_type": "code",
   "execution_count": 31,
   "metadata": {},
   "outputs": [
    {
     "data": {
      "text/plain": [
       "[('Beer', -0.05131286626118026, 0.9039571264863349),\n",
       " ('Wine', 0.3164350726095849, 0.44510075433499535),\n",
       " ('Spirits', 0.40686080145233244, 0.3171426768751202)]"
      ]
     },
     "execution_count": 31,
     "metadata": {},
     "output_type": "execute_result"
    }
   ],
   "source": [
    "import pandas as pd\n",
    "pop=pd.read_csv(\"./DataScience_code/예제파일/population2000-2009.csv\",index_col=\"State\")\n",
    "alco= pd.read_csv(\"./DataScience_code/예제파일/niaaa-report.csv\", index_col=[\"State\",\"Year\"])\n",
    "pop_seriesNY=pop.loc[\"New York\"][:-2]\n",
    "pop_seriesNY.index=pop_seriesNY.index.map(int)\n",
    "frame_NY=alco.loc['New York']\n",
    "frame_NY.loc[2000:2007].corrwith(pop_seriesNY)\n",
    "from scipy.stats import pearsonr\n",
    "pop_sorted=pop_seriesNY\n",
    "alco_8=frame_NY.loc[2000:2007]\n",
    "corrs=[(bev,)+pearsonr(alco_8[bev],pop_sorted)\n",
    "       for bev in alco_8.columns]\n",
    "corrs"
   ]
  },
  {
   "cell_type": "code",
   "execution_count": 34,
   "metadata": {},
   "outputs": [
    {
     "data": {
      "text/plain": [
       "<matplotlib.legend.Legend at 0x2c9a5ee7fa0>"
      ]
     },
     "execution_count": 34,
     "metadata": {},
     "output_type": "execute_result"
    },
    {
     "data": {
      "image/png": "[encoded data removed]",
      "text/plain": [
       "<Figure size 432x288 with 1 Axes>"
      ]
     },
     "metadata": {
      "needs_background": "light"
     },
     "output_type": "display_data"
    }
   ],
   "source": [
    "alco2009=pd.read_csv(\"./DataScience_code/예제파일/niaaa-report2009.csv\",index_col=\"State\")\n",
    "alco2009.corr()\n",
    "pearsonr(alco2009['Wine'],alco2009[\"Beer\"])\n",
    "pearsonr(alco2009['Spirits'],alco2009[\"Beer\"])\n",
    "pearsonr(alco2009['Spirits'],alco2009[\"Wine\"])\n",
    "import matplotlib.pyplot as plt\n",
    "plt.scatter(alco2009['Wine'],alco2009[\"Beer\"],label='W-B')\n",
    "plt.scatter(alco2009['Spirits'],alco2009[\"Beer\"],label='S-B')\n",
    "plt.scatter(alco2009['Spirits'],alco2009[\"Wine\"],label='S-W')\n",
    "plt.legend()"
   ]
  },
  {
   "cell_type": "code",
   "execution_count": 46,
   "metadata": {},
   "outputs": [
    {
     "name": "stdout",
     "output_type": "stream",
     "text": [
      "Average: 1650.3439287142853\n",
      "Standard deviation 374.53441227402146\n",
      "Skew: -0.04385999907083678\n",
      "correlation coeff,p-value (-0.45220459623079035, 1.572670345749769e-05)\n",
      "<matplotlib.collections.PathCollection object at 0x000002C9A6136B50>\n"
     ]
    },
    {
     "data": {
      "image/png": "[encoded data removed]",
      "text/plain": [
       "<Figure size 432x288 with 1 Axes>"
      ]
     },
     "metadata": {
      "needs_background": "light"
     },
     "output_type": "display_data"
    }
   ],
   "source": [
    "SAP=pd.read_csv(\"./DataScience_code/예제파일/sapXXI.csv\",index_col='Date')\n",
    "print(\"Average:\",SAP['Close'].mean())\n",
    "print(\"Standard deviation\",SAP['Close'].std())\n",
    "print(\"Skew:\",SAP['Close'].skew())\n",
    "print(\"correlation coeff,p-value\",pearsonr(SAP['Close'],SAP['Volume']))\n",
    "print(plt.scatter(SAP['Close'],SAP['Volume']))\n",
    "\n"
   ]
  },
  {
   "cell_type": "code",
   "execution_count": 61,
   "metadata": {},
   "outputs": [
    {
     "ename": "TypeError",
     "evalue": "str() takes at most 3 arguments (4 given)",
     "output_type": "error",
     "traceback": [
      "\u001b[1;31m---------------------------------------------------------------------------\u001b[0m",
      "\u001b[1;31mTypeError\u001b[0m                                 Traceback (most recent call last)",
      "\u001b[1;32m<ipython-input-61-af14d36e63e6>\u001b[0m in \u001b[0;36m<module>\u001b[1;34m\u001b[0m\n\u001b[0;32m     10\u001b[0m     \u001b[0mydata\u001b[0m\u001b[1;33m=\u001b[0m\u001b[0malco\u001b[0m\u001b[1;33m.\u001b[0m\u001b[0mloc\u001b[0m\u001b[1;33m[\u001b[0m\u001b[0mstate\u001b[0m\u001b[1;33m]\u001b[0m\u001b[1;33m[\u001b[0m\u001b[0mBEVERAGE\u001b[0m\u001b[1;33m]\u001b[0m\u001b[1;33m\u001b[0m\u001b[1;33m\u001b[0m\u001b[0m\n\u001b[0;32m     11\u001b[0m     \u001b[0mplt\u001b[0m\u001b[1;33m.\u001b[0m\u001b[0mplot\u001b[0m\u001b[1;33m(\u001b[0m\u001b[0myears\u001b[0m\u001b[1;33m,\u001b[0m\u001b[0mydata\u001b[0m\u001b[1;33m,\u001b[0m\u001b[1;34m\"-o\"\u001b[0m\u001b[1;33m)\u001b[0m\u001b[1;33m\u001b[0m\u001b[1;33m\u001b[0m\u001b[0m\n\u001b[1;32m---> 12\u001b[1;33m     plt.annotate(s=str(\"Peak\",xy=(ydata.argmax(),ydata.max()),\n\u001b[0m\u001b[0;32m     13\u001b[0m                     \u001b[0mxytext\u001b[0m\u001b[1;33m=\u001b[0m\u001b[1;33m(\u001b[0m\u001b[0mydata\u001b[0m\u001b[1;33m.\u001b[0m\u001b[0margmax\u001b[0m\u001b[1;33m(\u001b[0m\u001b[1;33m)\u001b[0m\u001b[1;33m+\u001b[0m\u001b[1;36m0.5\u001b[0m\u001b[1;33m,\u001b[0m\u001b[0mydata\u001b[0m\u001b[1;33m.\u001b[0m\u001b[0mmax\u001b[0m\u001b[1;33m(\u001b[0m\u001b[1;33m)\u001b[0m\u001b[1;33m+\u001b[0m\u001b[1;36m0.1\u001b[0m\u001b[1;33m)\u001b[0m\u001b[1;33m,\u001b[0m\u001b[1;33m\u001b[0m\u001b[1;33m\u001b[0m\u001b[0m\n\u001b[0;32m     14\u001b[0m                     arrowprops={\"facecolor\":\"black\",\"shrink\":0.2}))\n",
      "\u001b[1;31mTypeError\u001b[0m: str() takes at most 3 arguments (4 given)"
     ]
    },
    {
     "data": {
      "image/png": "[encoded data removed]",
      "text/plain": [
       "<Figure size 432x288 with 1 Axes>"
      ]
     },
     "metadata": {},
     "output_type": "display_data"
    }
   ],
   "source": [
    "alco= pd.read_csv(\"./DataScience_code/예제파일/niaaa-report.csv\", index_col=[\"State\",\"Year\"])\n",
    "\n",
    "BEVERAGE=\"Beer\"\n",
    "years=alco.index.levels[1]\n",
    "\n",
    "states=(\"New Hampshire\",\"Colorado\",\"Utah\")\n",
    "plt.xkcd()\n",
    "plt.style.use(\"ggplot\")\n",
    "for state in states:\n",
    "    ydata=alco.loc[state][BEVERAGE]\n",
    "    plt.plot(years,ydata,\"-o\")\n",
    "    plt.annotate(s=str(\"Peak\",xy=(ydata.argmax(),ydata.max()),\n",
    "                    xytext=(ydata.argmax()+0.5,ydata.max()+0.1),\n",
    "                    arrowprops={\"facecolor\":\"black\",\"shrink\":0.2}))\n",
    "   \n",
    "plt.ylabel(BEVERAGE+\"consumption\")\n",
    "plt.xlabel(\"Years\")\n",
    "plt.legend(states)\n",
    "plt.show()"
   ]
  },
  {
   "cell_type": "code",
   "execution_count": null,
   "metadata": {},
   "outputs": [],
   "source": []
  }
 ],
 "metadata": {
  "kernelspec": {
   "display_name": "Python 3",
   "language": "python",
   "name": "python3"
  },
  "language_info": {
   "codemirror_mode": {
    "name": "ipython",
    "version": 3
   },
   "file_extension": ".py",
   "mimetype": "text/x-python",
   "name": "python",
   "nbconvert_exporter": "python",
   "pygments_lexer": "ipython3",
   "version": "3.8.5"
  }
 },
 "nbformat": 4,
 "nbformat_minor": 4
}
